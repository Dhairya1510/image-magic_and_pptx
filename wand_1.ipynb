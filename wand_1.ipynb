{
    "cells": [
        {
            "cell_type": "markdown",
            "source": [
                "# 🠗🠗🠗 Importing libraries"
            ],
            "metadata": {}
        },
        {
            "cell_type": "code",
            "execution_count": 1,
            "source": [
                "import os\r\n",
                "from wand.image import Image\r\n",
                "from wand.display import display\r\n",
                "from pptx import Presentation\r\n",
                "from pptx.util import Inches, Pt, Cm, Inches\r\n",
                "from pptx.enum.text import PP_ALIGN"
            ],
            "outputs": [],
            "metadata": {}
        },
        {
            "cell_type": "markdown",
            "source": [
                "## Getting all the Images ends with .jpg in the folder"
            ],
            "metadata": {}
        },
        {
            "cell_type": "code",
            "execution_count": 2,
            "source": [
                "image_names = []\r\n",
                "\r\n",
                "path = \"C:/Users/dtmt1/Desktop/magic-wand/images\" # path to the folder where images are\r\n",
                "os.chdir(path)\r\n",
                "for file in os.listdir():\r\n",
                "    if file.endswith(\".jpg\"):\r\n",
                "        file_path = f\"{file}\"\r\n",
                "        image_names.append(file_path)\r\n",
                "print(image_names)"
            ],
            "outputs": [
                {
                    "output_type": "stream",
                    "name": "stdout",
                    "text": [
                        "['image1.jpg', 'image2.jpg', 'image3.jpg', 'image4.jpg', 'image5.jpg']\n"
                    ]
                }
            ],
            "metadata": {}
        },
        {
            "cell_type": "markdown",
            "source": [
                "### ▲ ▲ ▲ Images in the folder"
            ],
            "metadata": {}
        },
        {
            "cell_type": "markdown",
            "source": [
                "# looping threw all the images to give them water-mark and adding them into ppt"
            ],
            "metadata": {}
        },
        {
            "cell_type": "code",
            "execution_count": 3,
            "source": [
                "prs = Presentation()\r\n",
                "blank_slide_layout = prs.slide_layouts[6] #Chosing blank slide\r\n",
                "\r\n",
                "for i in image_names :\r\n",
                "  slide = prs.slides.add_slide(blank_slide_layout)\r\n",
                "\r\n",
                "  text_box = slide.shapes.add_textbox(Cm(1.0), Cm(0.5), Cm(23.4), Cm(3.0))\r\n",
                "  text_box.text_frame.word_wrap = True\r\n",
                "  \r\n",
                "  p = text_box.text_frame.paragraphs[0]\r\n",
                "  p.text = 'Heading'\r\n",
                "  p.font.bold = True\r\n",
                "  p.font.size = Pt(32)\r\n",
                "  p.font.name = 'Arial Black'\r\n",
                "  p.alignment = PP_ALIGN.CENTER\r\n",
                "  \r\n",
                "  text_box = slide.shapes.add_textbox(Cm(1.0), Cm(2), Cm(23.4), Cm(1.62))\r\n",
                "  \r\n",
                "  p = text_box.text_frame.paragraphs[0]\r\n",
                "  p.text = 'Sub-Heading'\r\n",
                "  p.font.size = Pt(32)\r\n",
                "  p.font.name = 'Arial'\r\n",
                "  p.font.bold = True\r\n",
                "  p.alignment = PP_ALIGN.CENTER\r\n",
                "\r\n",
                "  with Image(filename=i) as image:\r\n",
                "      # Import the watermark image\r\n",
                "      with Image(filename='nike_black.png') as water:\r\n",
                "          # Clone the image in order to process\r\n",
                "          with image.clone() as watermark:\r\n",
                "              # Invoke watermark function with watermark image, transparency as 0.3\r\n",
                "              # left as 10 and top as 20\r\n",
                "              water.resize(1600, 800)\r\n",
                "              watermark.watermark(water, 0.3, 10, 20)\r\n",
                "              watermark.transform(resize='480x360>')\r\n",
                "              # Save the image\r\n",
                "              path = 'image{}_watermarked.jpeg'.format(i)\r\n",
                "              watermark.save(filename=path)\r\n",
                "              pic = slide.shapes.add_picture(path, Inches(0.5), Inches(1.75))\r\n",
                "\r\n",
                "prs.save('submission.pptx')\r\n",
                "\r\n"
            ],
            "outputs": [],
            "metadata": {}
        }
    ],
    "metadata": {
        "orig_nbformat": 4,
        "language_info": {
            "name": "python",
            "version": "3.8.5",
            "mimetype": "text/x-python",
            "codemirror_mode": {
                "name": "ipython",
                "version": 3
            },
            "pygments_lexer": "ipython3",
            "nbconvert_exporter": "python",
            "file_extension": ".py"
        },
        "kernelspec": {
            "name": "python3",
            "display_name": "Python 3.8.5 64-bit ('base': conda)"
        },
        "interpreter": {
            "hash": "b3ba2566441a7c06988d0923437866b63cedc61552a5af99d1f4fb67d367b25f"
        }
    },
    "nbformat": 4,
    "nbformat_minor": 2
}